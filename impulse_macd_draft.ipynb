{
 "cells": [
  {
   "cell_type": "markdown",
   "id": "laughing-notion",
   "metadata": {},
   "source": [
    "## Impulse MACD [LazyBear]"
   ]
  },
  {
   "cell_type": "markdown",
   "id": "close-track",
   "metadata": {},
   "source": [
    "<https://www.tradingview.com/script/qt6xLfLi-Impulse-MACD-LazyBear/>"
   ]
  },
  {
   "cell_type": "markdown",
   "id": "powerful-semiconductor",
   "metadata": {},
   "source": [
    ">Developed by [@edyatl](https://github.com/edyatl) March 2023 <edyatl@yandex.ru>"
   ]
  },
  {
   "cell_type": "code",
   "execution_count": 1,
   "id": "geological-ceiling",
   "metadata": {},
   "outputs": [
    {
     "data": {
      "application/javascript": [
       "\n",
       "            setTimeout(function() {\n",
       "                var nbb_cell_id = 1;\n",
       "                var nbb_unformatted_code = \"# Load Jupyter extension for auto correction coding style based on Black Lib\\n%load_ext nb_black\";\n",
       "                var nbb_formatted_code = \"# Load Jupyter extension for auto correction coding style based on Black Lib\\n%load_ext nb_black\";\n",
       "                var nbb_cells = Jupyter.notebook.get_cells();\n",
       "                for (var i = 0; i < nbb_cells.length; ++i) {\n",
       "                    if (nbb_cells[i].input_prompt_number == nbb_cell_id) {\n",
       "                        if (nbb_cells[i].get_text() == nbb_unformatted_code) {\n",
       "                             nbb_cells[i].set_text(nbb_formatted_code);\n",
       "                        }\n",
       "                        break;\n",
       "                    }\n",
       "                }\n",
       "            }, 500);\n",
       "            "
      ],
      "text/plain": [
       "<IPython.core.display.Javascript object>"
      ]
     },
     "metadata": {},
     "output_type": "display_data"
    }
   ],
   "source": [
    "# Load Jupyter extension for auto correction coding style based on Black Lib\n",
    "%load_ext nb_black"
   ]
  },
  {
   "cell_type": "markdown",
   "id": "living-address",
   "metadata": {},
   "source": [
    "### Original Indicator code\n",
    "\n",
    "```python\n",
    "//\n",
    "// @author LazyBear \n",
    "// \n",
    "// List of my public indicators: http://bit.ly/1LQaPK8 \n",
    "// List of my app-store indicators: http://blog.tradingview.com/?p=970 \n",
    "//\n",
    "//\n",
    "study(\"Impulse MACD [LazyBear]\", shorttitle=\"IMACD_LB\", overlay=false)\n",
    "lengthMA = input(34)\n",
    "lengthSignal = input(9)\n",
    "calc_smma(src, len) =>\n",
    "\tsmma=na(smma[1]) ? sma(src, len) : (smma[1] * (len - 1) + src) / len\n",
    "\tsmma\n",
    "\n",
    "calc_zlema(src, length) =>\n",
    "\tema1=ema(src, length)\n",
    "\tema2=ema(ema1, length)\n",
    "\td=ema1-ema2\n",
    "\tema1+d\n",
    "\n",
    "src=hlc3\n",
    "hi=calc_smma(high, lengthMA)\n",
    "lo=calc_smma(low, lengthMA)\n",
    "mi=calc_zlema(src, lengthMA) \n",
    "\n",
    "md=(mi>hi)? (mi-hi) : (mi<lo) ? (mi - lo) : 0\n",
    "sb=sma(md, lengthSignal)\n",
    "sh=md-sb\n",
    "mdc=src>mi?src>hi?lime:green:src<lo?red:orange\n",
    "plot(0, color=gray, linewidth=1, title=\"MidLine\")\n",
    "plot(md, color=mdc, linewidth=2, title=\"ImpulseMACD\", style=histogram)\n",
    "plot(sh, color=blue, linewidth=2, title=\"ImpulseHisto\", style=histogram)\n",
    "plot(sb, color=maroon, linewidth=2, title=\"ImpulseMACDCDSignal\")\n",
    "\n",
    "ebc=input(false, title=\"Enable bar colors\")\n",
    "barcolor(ebc?mdc:na)\n",
    "```"
   ]
  },
  {
   "cell_type": "code",
   "execution_count": 2,
   "id": "anticipated-romance",
   "metadata": {},
   "outputs": [
    {
     "data": {
      "application/javascript": [
       "\n",
       "            setTimeout(function() {\n",
       "                var nbb_cell_id = 2;\n",
       "                var nbb_unformatted_code = \"# Standard imports\\nimport pandas as pd\\nimport numpy as np\\n\\n# import matplotlib.pyplot as plt\\n# import seaborn as sns\\nimport talib as tl\\n\\nimport os\\nfrom os import environ as env\\nfrom dotenv import load_dotenv\\nfrom binance import Client, ThreadedWebsocketManager, ThreadedDepthCacheManager\\n\\n# Nicest style for plots\\n# sns.set(style=\\\"ticks\\\")\";\n",
       "                var nbb_formatted_code = \"# Standard imports\\nimport pandas as pd\\nimport numpy as np\\n\\n# import matplotlib.pyplot as plt\\n# import seaborn as sns\\nimport talib as tl\\n\\nimport os\\nfrom os import environ as env\\nfrom dotenv import load_dotenv\\nfrom binance import Client, ThreadedWebsocketManager, ThreadedDepthCacheManager\\n\\n# Nicest style for plots\\n# sns.set(style=\\\"ticks\\\")\";\n",
       "                var nbb_cells = Jupyter.notebook.get_cells();\n",
       "                for (var i = 0; i < nbb_cells.length; ++i) {\n",
       "                    if (nbb_cells[i].input_prompt_number == nbb_cell_id) {\n",
       "                        if (nbb_cells[i].get_text() == nbb_unformatted_code) {\n",
       "                             nbb_cells[i].set_text(nbb_formatted_code);\n",
       "                        }\n",
       "                        break;\n",
       "                    }\n",
       "                }\n",
       "            }, 500);\n",
       "            "
      ],
      "text/plain": [
       "<IPython.core.display.Javascript object>"
      ]
     },
     "metadata": {},
     "output_type": "display_data"
    }
   ],
   "source": [
    "# Standard imports\n",
    "import pandas as pd\n",
    "import numpy as np\n",
    "\n",
    "# import matplotlib.pyplot as plt\n",
    "# import seaborn as sns\n",
    "import talib as tl\n",
    "\n",
    "import os\n",
    "from os import environ as env\n",
    "from dotenv import load_dotenv\n",
    "from binance import Client, ThreadedWebsocketManager, ThreadedDepthCacheManager\n",
    "\n",
    "# Nicest style for plots\n",
    "# sns.set(style=\"ticks\")"
   ]
  },
  {
   "cell_type": "code",
   "execution_count": 3,
   "id": "inclusive-initial",
   "metadata": {},
   "outputs": [
    {
     "data": {
      "application/javascript": [
       "\n",
       "            setTimeout(function() {\n",
       "                var nbb_cell_id = 3;\n",
       "                var nbb_unformatted_code = \"# Install a pip package in the current Jupyter kernel\\n# import sys\\n\\n# !{sys.executable} -m pip install -U python-dotenv\";\n",
       "                var nbb_formatted_code = \"# Install a pip package in the current Jupyter kernel\\n# import sys\\n\\n# !{sys.executable} -m pip install -U python-dotenv\";\n",
       "                var nbb_cells = Jupyter.notebook.get_cells();\n",
       "                for (var i = 0; i < nbb_cells.length; ++i) {\n",
       "                    if (nbb_cells[i].input_prompt_number == nbb_cell_id) {\n",
       "                        if (nbb_cells[i].get_text() == nbb_unformatted_code) {\n",
       "                             nbb_cells[i].set_text(nbb_formatted_code);\n",
       "                        }\n",
       "                        break;\n",
       "                    }\n",
       "                }\n",
       "            }, 500);\n",
       "            "
      ],
      "text/plain": [
       "<IPython.core.display.Javascript object>"
      ]
     },
     "metadata": {},
     "output_type": "display_data"
    }
   ],
   "source": [
    "# Install a pip package in the current Jupyter kernel\n",
    "# import sys\n",
    "\n",
    "# !{sys.executable} -m pip install -U python-dotenv"
   ]
  },
  {
   "cell_type": "code",
   "execution_count": 4,
   "id": "eight-wright",
   "metadata": {},
   "outputs": [
    {
     "data": {
      "application/javascript": [
       "\n",
       "            setTimeout(function() {\n",
       "                var nbb_cell_id = 4;\n",
       "                var nbb_unformatted_code = \"project_dotenv = os.path.join(os.path.abspath(\\\"\\\"), \\\".env\\\")\\nif os.path.exists(project_dotenv):\\n    load_dotenv(project_dotenv)\";\n",
       "                var nbb_formatted_code = \"project_dotenv = os.path.join(os.path.abspath(\\\"\\\"), \\\".env\\\")\\nif os.path.exists(project_dotenv):\\n    load_dotenv(project_dotenv)\";\n",
       "                var nbb_cells = Jupyter.notebook.get_cells();\n",
       "                for (var i = 0; i < nbb_cells.length; ++i) {\n",
       "                    if (nbb_cells[i].input_prompt_number == nbb_cell_id) {\n",
       "                        if (nbb_cells[i].get_text() == nbb_unformatted_code) {\n",
       "                             nbb_cells[i].set_text(nbb_formatted_code);\n",
       "                        }\n",
       "                        break;\n",
       "                    }\n",
       "                }\n",
       "            }, 500);\n",
       "            "
      ],
      "text/plain": [
       "<IPython.core.display.Javascript object>"
      ]
     },
     "metadata": {},
     "output_type": "display_data"
    }
   ],
   "source": [
    "project_dotenv = os.path.join(os.path.abspath(\"\"), \".env\")\n",
    "if os.path.exists(project_dotenv):\n",
    "    load_dotenv(project_dotenv)"
   ]
  },
  {
   "cell_type": "code",
   "execution_count": 5,
   "id": "peripheral-harvard",
   "metadata": {},
   "outputs": [
    {
     "data": {
      "application/javascript": [
       "\n",
       "            setTimeout(function() {\n",
       "                var nbb_cell_id = 5;\n",
       "                var nbb_unformatted_code = \"api_key, api_secret = env.get(\\\"ENV_API_KEY\\\"), env.get(\\\"ENV_SECRET_KEY\\\")\\nclient = Client(api_key, api_secret)\";\n",
       "                var nbb_formatted_code = \"api_key, api_secret = env.get(\\\"ENV_API_KEY\\\"), env.get(\\\"ENV_SECRET_KEY\\\")\\nclient = Client(api_key, api_secret)\";\n",
       "                var nbb_cells = Jupyter.notebook.get_cells();\n",
       "                for (var i = 0; i < nbb_cells.length; ++i) {\n",
       "                    if (nbb_cells[i].input_prompt_number == nbb_cell_id) {\n",
       "                        if (nbb_cells[i].get_text() == nbb_unformatted_code) {\n",
       "                             nbb_cells[i].set_text(nbb_formatted_code);\n",
       "                        }\n",
       "                        break;\n",
       "                    }\n",
       "                }\n",
       "            }, 500);\n",
       "            "
      ],
      "text/plain": [
       "<IPython.core.display.Javascript object>"
      ]
     },
     "metadata": {},
     "output_type": "display_data"
    }
   ],
   "source": [
    "api_key, api_secret = env.get(\"ENV_API_KEY\"), env.get(\"ENV_SECRET_KEY\")\n",
    "client = Client(api_key, api_secret)"
   ]
  },
  {
   "cell_type": "code",
   "execution_count": 6,
   "id": "blank-saturday",
   "metadata": {},
   "outputs": [
    {
     "data": {
      "application/javascript": [
       "\n",
       "            setTimeout(function() {\n",
       "                var nbb_cell_id = 6;\n",
       "                var nbb_unformatted_code = \"klines = client.get_klines(symbol=\\\"ATOMUSDT\\\", interval=Client.KLINE_INTERVAL_15MINUTE)\\n\\nshort_col_names = [\\n    \\\"open_time\\\",\\n    \\\"open\\\",\\n    \\\"high\\\",\\n    \\\"low\\\",\\n    \\\"close\\\",\\n    \\\"volume\\\",\\n    \\\"close_time\\\",\\n    \\\"qav\\\",\\n    \\\"num_trades\\\",\\n    \\\"taker_base_vol\\\",\\n    \\\"taker_quote_vol\\\",\\n    \\\"ignore\\\",\\n]\";\n",
       "                var nbb_formatted_code = \"klines = client.get_klines(symbol=\\\"ATOMUSDT\\\", interval=Client.KLINE_INTERVAL_15MINUTE)\\n\\nshort_col_names = [\\n    \\\"open_time\\\",\\n    \\\"open\\\",\\n    \\\"high\\\",\\n    \\\"low\\\",\\n    \\\"close\\\",\\n    \\\"volume\\\",\\n    \\\"close_time\\\",\\n    \\\"qav\\\",\\n    \\\"num_trades\\\",\\n    \\\"taker_base_vol\\\",\\n    \\\"taker_quote_vol\\\",\\n    \\\"ignore\\\",\\n]\";\n",
       "                var nbb_cells = Jupyter.notebook.get_cells();\n",
       "                for (var i = 0; i < nbb_cells.length; ++i) {\n",
       "                    if (nbb_cells[i].input_prompt_number == nbb_cell_id) {\n",
       "                        if (nbb_cells[i].get_text() == nbb_unformatted_code) {\n",
       "                             nbb_cells[i].set_text(nbb_formatted_code);\n",
       "                        }\n",
       "                        break;\n",
       "                    }\n",
       "                }\n",
       "            }, 500);\n",
       "            "
      ],
      "text/plain": [
       "<IPython.core.display.Javascript object>"
      ]
     },
     "metadata": {},
     "output_type": "display_data"
    }
   ],
   "source": [
    "klines = client.get_klines(symbol=\"ATOMUSDT\", interval=Client.KLINE_INTERVAL_15MINUTE)\n",
    "\n",
    "short_col_names = [\n",
    "    \"open_time\",\n",
    "    \"open\",\n",
    "    \"high\",\n",
    "    \"low\",\n",
    "    \"close\",\n",
    "    \"volume\",\n",
    "    \"close_time\",\n",
    "    \"qav\",\n",
    "    \"num_trades\",\n",
    "    \"taker_base_vol\",\n",
    "    \"taker_quote_vol\",\n",
    "    \"ignore\",\n",
    "]"
   ]
  },
  {
   "cell_type": "code",
   "execution_count": 7,
   "id": "opening-edition",
   "metadata": {},
   "outputs": [
    {
     "data": {
      "text/html": [
       "<div>\n",
       "<style scoped>\n",
       "    .dataframe tbody tr th:only-of-type {\n",
       "        vertical-align: middle;\n",
       "    }\n",
       "\n",
       "    .dataframe tbody tr th {\n",
       "        vertical-align: top;\n",
       "    }\n",
       "\n",
       "    .dataframe thead th {\n",
       "        text-align: right;\n",
       "    }\n",
       "</style>\n",
       "<table border=\"1\" class=\"dataframe\">\n",
       "  <thead>\n",
       "    <tr style=\"text-align: right;\">\n",
       "      <th></th>\n",
       "      <th>open_time</th>\n",
       "      <th>open</th>\n",
       "      <th>high</th>\n",
       "      <th>low</th>\n",
       "      <th>close</th>\n",
       "      <th>volume</th>\n",
       "      <th>close_time</th>\n",
       "      <th>qav</th>\n",
       "      <th>num_trades</th>\n",
       "      <th>taker_base_vol</th>\n",
       "      <th>taker_quote_vol</th>\n",
       "      <th>ignore</th>\n",
       "    </tr>\n",
       "  </thead>\n",
       "  <tbody>\n",
       "    <tr>\n",
       "      <th>495</th>\n",
       "      <td>2023-03-05 23:30:00</td>\n",
       "      <td>12.01000000</td>\n",
       "      <td>12.03500000</td>\n",
       "      <td>12.00000000</td>\n",
       "      <td>12.00000000</td>\n",
       "      <td>5161.56000000</td>\n",
       "      <td>2023-03-05 23:44:59.999</td>\n",
       "      <td>62048.65273000</td>\n",
       "      <td>250</td>\n",
       "      <td>2563.87000000</td>\n",
       "      <td>30819.09144000</td>\n",
       "      <td>0</td>\n",
       "    </tr>\n",
       "    <tr>\n",
       "      <th>496</th>\n",
       "      <td>2023-03-05 23:45:00</td>\n",
       "      <td>12.00300000</td>\n",
       "      <td>12.03900000</td>\n",
       "      <td>11.99900000</td>\n",
       "      <td>12.01900000</td>\n",
       "      <td>2975.20000000</td>\n",
       "      <td>2023-03-05 23:59:59.999</td>\n",
       "      <td>35775.37734000</td>\n",
       "      <td>175</td>\n",
       "      <td>1091.16000000</td>\n",
       "      <td>13119.13223000</td>\n",
       "      <td>0</td>\n",
       "    </tr>\n",
       "    <tr>\n",
       "      <th>497</th>\n",
       "      <td>2023-03-06 00:00:00</td>\n",
       "      <td>12.01900000</td>\n",
       "      <td>12.04400000</td>\n",
       "      <td>12.00000000</td>\n",
       "      <td>12.00800000</td>\n",
       "      <td>4168.94000000</td>\n",
       "      <td>2023-03-06 00:14:59.999</td>\n",
       "      <td>50134.19344000</td>\n",
       "      <td>343</td>\n",
       "      <td>1998.63000000</td>\n",
       "      <td>24038.15067000</td>\n",
       "      <td>0</td>\n",
       "    </tr>\n",
       "    <tr>\n",
       "      <th>498</th>\n",
       "      <td>2023-03-06 00:15:00</td>\n",
       "      <td>12.00400000</td>\n",
       "      <td>12.03600000</td>\n",
       "      <td>11.95800000</td>\n",
       "      <td>12.03600000</td>\n",
       "      <td>6773.73000000</td>\n",
       "      <td>2023-03-06 00:29:59.999</td>\n",
       "      <td>81238.93126000</td>\n",
       "      <td>408</td>\n",
       "      <td>3281.02000000</td>\n",
       "      <td>39342.03309000</td>\n",
       "      <td>0</td>\n",
       "    </tr>\n",
       "    <tr>\n",
       "      <th>499</th>\n",
       "      <td>2023-03-06 00:30:00</td>\n",
       "      <td>12.03200000</td>\n",
       "      <td>12.04500000</td>\n",
       "      <td>12.02700000</td>\n",
       "      <td>12.03900000</td>\n",
       "      <td>4405.79000000</td>\n",
       "      <td>2023-03-06 00:44:59.999</td>\n",
       "      <td>53032.77966000</td>\n",
       "      <td>222</td>\n",
       "      <td>2368.11000000</td>\n",
       "      <td>28503.89073000</td>\n",
       "      <td>0</td>\n",
       "    </tr>\n",
       "  </tbody>\n",
       "</table>\n",
       "</div>"
      ],
      "text/plain": [
       "              open_time         open         high          low        close  \\\n",
       "495 2023-03-05 23:30:00  12.01000000  12.03500000  12.00000000  12.00000000   \n",
       "496 2023-03-05 23:45:00  12.00300000  12.03900000  11.99900000  12.01900000   \n",
       "497 2023-03-06 00:00:00  12.01900000  12.04400000  12.00000000  12.00800000   \n",
       "498 2023-03-06 00:15:00  12.00400000  12.03600000  11.95800000  12.03600000   \n",
       "499 2023-03-06 00:30:00  12.03200000  12.04500000  12.02700000  12.03900000   \n",
       "\n",
       "            volume              close_time             qav  num_trades  \\\n",
       "495  5161.56000000 2023-03-05 23:44:59.999  62048.65273000         250   \n",
       "496  2975.20000000 2023-03-05 23:59:59.999  35775.37734000         175   \n",
       "497  4168.94000000 2023-03-06 00:14:59.999  50134.19344000         343   \n",
       "498  6773.73000000 2023-03-06 00:29:59.999  81238.93126000         408   \n",
       "499  4405.79000000 2023-03-06 00:44:59.999  53032.77966000         222   \n",
       "\n",
       "    taker_base_vol taker_quote_vol ignore  \n",
       "495  2563.87000000  30819.09144000      0  \n",
       "496  1091.16000000  13119.13223000      0  \n",
       "497  1998.63000000  24038.15067000      0  \n",
       "498  3281.02000000  39342.03309000      0  \n",
       "499  2368.11000000  28503.89073000      0  "
      ]
     },
     "execution_count": 7,
     "metadata": {},
     "output_type": "execute_result"
    },
    {
     "data": {
      "application/javascript": [
       "\n",
       "            setTimeout(function() {\n",
       "                var nbb_cell_id = 7;\n",
       "                var nbb_unformatted_code = \"data = pd.DataFrame(klines, columns=short_col_names)\\ndata[\\\"open_time\\\"] = pd.to_datetime(data[\\\"open_time\\\"], unit=\\\"ms\\\")\\ndata[\\\"close_time\\\"] = pd.to_datetime(data[\\\"close_time\\\"], unit=\\\"ms\\\")\\ndata.tail(5)\";\n",
       "                var nbb_formatted_code = \"data = pd.DataFrame(klines, columns=short_col_names)\\ndata[\\\"open_time\\\"] = pd.to_datetime(data[\\\"open_time\\\"], unit=\\\"ms\\\")\\ndata[\\\"close_time\\\"] = pd.to_datetime(data[\\\"close_time\\\"], unit=\\\"ms\\\")\\ndata.tail(5)\";\n",
       "                var nbb_cells = Jupyter.notebook.get_cells();\n",
       "                for (var i = 0; i < nbb_cells.length; ++i) {\n",
       "                    if (nbb_cells[i].input_prompt_number == nbb_cell_id) {\n",
       "                        if (nbb_cells[i].get_text() == nbb_unformatted_code) {\n",
       "                             nbb_cells[i].set_text(nbb_formatted_code);\n",
       "                        }\n",
       "                        break;\n",
       "                    }\n",
       "                }\n",
       "            }, 500);\n",
       "            "
      ],
      "text/plain": [
       "<IPython.core.display.Javascript object>"
      ]
     },
     "metadata": {},
     "output_type": "display_data"
    }
   ],
   "source": [
    "data = pd.DataFrame(klines, columns=short_col_names)\n",
    "data[\"open_time\"] = pd.to_datetime(data[\"open_time\"], unit=\"ms\")\n",
    "data[\"close_time\"] = pd.to_datetime(data[\"close_time\"], unit=\"ms\")\n",
    "data.tail(5)"
   ]
  },
  {
   "cell_type": "markdown",
   "id": "separated-bunch",
   "metadata": {},
   "source": [
    "### Inputs"
   ]
  },
  {
   "cell_type": "code",
   "execution_count": 8,
   "id": "settled-essence",
   "metadata": {},
   "outputs": [
    {
     "data": {
      "application/javascript": [
       "\n",
       "            setTimeout(function() {\n",
       "                var nbb_cell_id = 8;\n",
       "                var nbb_unformatted_code = \"lengthMA: int = 34  # input(34)\\nlengthSignal: int = 9  # input(9)\";\n",
       "                var nbb_formatted_code = \"lengthMA: int = 34  # input(34)\\nlengthSignal: int = 9  # input(9)\";\n",
       "                var nbb_cells = Jupyter.notebook.get_cells();\n",
       "                for (var i = 0; i < nbb_cells.length; ++i) {\n",
       "                    if (nbb_cells[i].input_prompt_number == nbb_cell_id) {\n",
       "                        if (nbb_cells[i].get_text() == nbb_unformatted_code) {\n",
       "                             nbb_cells[i].set_text(nbb_formatted_code);\n",
       "                        }\n",
       "                        break;\n",
       "                    }\n",
       "                }\n",
       "            }, 500);\n",
       "            "
      ],
      "text/plain": [
       "<IPython.core.display.Javascript object>"
      ]
     },
     "metadata": {},
     "output_type": "display_data"
    }
   ],
   "source": [
    "lengthMA: int = 34  # input(34)\n",
    "lengthSignal: int = 9  # input(9)"
   ]
  },
  {
   "cell_type": "code",
   "execution_count": 9,
   "id": "thirty-helicopter",
   "metadata": {},
   "outputs": [
    {
     "data": {
      "application/javascript": [
       "\n",
       "            setTimeout(function() {\n",
       "                var nbb_cell_id = 9;\n",
       "                var nbb_unformatted_code = \"def calc_smma(src: np.ndarray, length: int) -> np.ndarray:\\n    \\\"\\\"\\\"\\n    Calculate Smoothed Moving Average (SMMA) for a given numpy array `src` with a specified `length`.\\n\\n    :param src: A numpy ndarray of shape (n,) containing the input values of float64 dtype.\\n    :param length: An integer representing the length of the SMMA window.\\n    :return: A numpy ndarray of the same shape as `src` containing the SMMA values.\\n    \\\"\\\"\\\"\\n    smma = np.full_like(src, fill_value=np.nan)\\n    sma = tl.SMA(src, length)\\n\\n    for i in range(1, len(src)):\\n        smma[i] = (\\n            sma[i]\\n            if np.isnan(smma[i - 1])\\n            else (smma[i - 1] * (length - 1) + src[i]) / length\\n        )\\n\\n    return smma\";\n",
       "                var nbb_formatted_code = \"def calc_smma(src: np.ndarray, length: int) -> np.ndarray:\\n    \\\"\\\"\\\"\\n    Calculate Smoothed Moving Average (SMMA) for a given numpy array `src` with a specified `length`.\\n\\n    :param src: A numpy ndarray of shape (n,) containing the input values of float64 dtype.\\n    :param length: An integer representing the length of the SMMA window.\\n    :return: A numpy ndarray of the same shape as `src` containing the SMMA values.\\n    \\\"\\\"\\\"\\n    smma = np.full_like(src, fill_value=np.nan)\\n    sma = tl.SMA(src, length)\\n\\n    for i in range(1, len(src)):\\n        smma[i] = (\\n            sma[i]\\n            if np.isnan(smma[i - 1])\\n            else (smma[i - 1] * (length - 1) + src[i]) / length\\n        )\\n\\n    return smma\";\n",
       "                var nbb_cells = Jupyter.notebook.get_cells();\n",
       "                for (var i = 0; i < nbb_cells.length; ++i) {\n",
       "                    if (nbb_cells[i].input_prompt_number == nbb_cell_id) {\n",
       "                        if (nbb_cells[i].get_text() == nbb_unformatted_code) {\n",
       "                             nbb_cells[i].set_text(nbb_formatted_code);\n",
       "                        }\n",
       "                        break;\n",
       "                    }\n",
       "                }\n",
       "            }, 500);\n",
       "            "
      ],
      "text/plain": [
       "<IPython.core.display.Javascript object>"
      ]
     },
     "metadata": {},
     "output_type": "display_data"
    }
   ],
   "source": [
    "def calc_smma(src: np.ndarray, length: int) -> np.ndarray:\n",
    "    \"\"\"\n",
    "    Calculate Smoothed Moving Average (SMMA) for a given numpy array `src` with a specified `length`.\n",
    "\n",
    "    :param src: A numpy ndarray of shape (n,) containing the input values of float64 dtype.\n",
    "    :param length: An integer representing the length of the SMMA window.\n",
    "    :return: A numpy ndarray of the same shape as `src` containing the SMMA values.\n",
    "    \"\"\"\n",
    "    smma = np.full_like(src, fill_value=np.nan)\n",
    "    sma = tl.SMA(src, length)\n",
    "\n",
    "    for i in range(1, len(src)):\n",
    "        smma[i] = (\n",
    "            sma[i]\n",
    "            if np.isnan(smma[i - 1])\n",
    "            else (smma[i - 1] * (length - 1) + src[i]) / length\n",
    "        )\n",
    "\n",
    "    return smma"
   ]
  },
  {
   "cell_type": "code",
   "execution_count": 10,
   "id": "inner-freedom",
   "metadata": {},
   "outputs": [
    {
     "data": {
      "application/javascript": [
       "\n",
       "            setTimeout(function() {\n",
       "                var nbb_cell_id = 10;\n",
       "                var nbb_unformatted_code = \"def calc_zlema(src: np.ndarray, length: int) -> np.ndarray:\\n    \\\"\\\"\\\"\\n    Calculates the zero-lag exponential moving average (ZLEMA) of the given price series.\\n\\n    :param src: The input price series of float64 dtype to calculate the ZLEMA for.\\n    :param length: int The number of bars to use for the calculation of the ZLEMA.\\n    :return: A numpy ndarray of ZLEMA values for the input price series.\\n    \\\"\\\"\\\"\\n    ema1 = tl.EMA(src, length)\\n    ema2 = tl.EMA(ema1, length)\\n    d = ema1 - ema2\\n    return ema1 + d\";\n",
       "                var nbb_formatted_code = \"def calc_zlema(src: np.ndarray, length: int) -> np.ndarray:\\n    \\\"\\\"\\\"\\n    Calculates the zero-lag exponential moving average (ZLEMA) of the given price series.\\n\\n    :param src: The input price series of float64 dtype to calculate the ZLEMA for.\\n    :param length: int The number of bars to use for the calculation of the ZLEMA.\\n    :return: A numpy ndarray of ZLEMA values for the input price series.\\n    \\\"\\\"\\\"\\n    ema1 = tl.EMA(src, length)\\n    ema2 = tl.EMA(ema1, length)\\n    d = ema1 - ema2\\n    return ema1 + d\";\n",
       "                var nbb_cells = Jupyter.notebook.get_cells();\n",
       "                for (var i = 0; i < nbb_cells.length; ++i) {\n",
       "                    if (nbb_cells[i].input_prompt_number == nbb_cell_id) {\n",
       "                        if (nbb_cells[i].get_text() == nbb_unformatted_code) {\n",
       "                             nbb_cells[i].set_text(nbb_formatted_code);\n",
       "                        }\n",
       "                        break;\n",
       "                    }\n",
       "                }\n",
       "            }, 500);\n",
       "            "
      ],
      "text/plain": [
       "<IPython.core.display.Javascript object>"
      ]
     },
     "metadata": {},
     "output_type": "display_data"
    }
   ],
   "source": [
    "def calc_zlema(src: np.ndarray, length: int) -> np.ndarray:\n",
    "    \"\"\"\n",
    "    Calculates the zero-lag exponential moving average (ZLEMA) of the given price series.\n",
    "\n",
    "    :param src: The input price series of float64 dtype to calculate the ZLEMA for.\n",
    "    :param length: int The number of bars to use for the calculation of the ZLEMA.\n",
    "    :return: A numpy ndarray of ZLEMA values for the input price series.\n",
    "    \"\"\"\n",
    "    ema1 = tl.EMA(src, length)\n",
    "    ema2 = tl.EMA(ema1, length)\n",
    "    d = ema1 - ema2\n",
    "    return ema1 + d"
   ]
  },
  {
   "cell_type": "code",
   "execution_count": 11,
   "id": "manual-passion",
   "metadata": {},
   "outputs": [
    {
     "data": {
      "application/javascript": [
       "\n",
       "            setTimeout(function() {\n",
       "                var nbb_cell_id = 11;\n",
       "                var nbb_unformatted_code = \"src = (\\n    data[\\\"high\\\"].to_numpy(dtype=np.double)\\n    + data[\\\"low\\\"].to_numpy(dtype=np.double)\\n    + data[\\\"close\\\"].to_numpy(dtype=np.double)\\n) / 3\\nhi = calc_smma(data[\\\"high\\\"].to_numpy(dtype=np.double), lengthMA)\\nlo = calc_smma(data[\\\"low\\\"].to_numpy(dtype=np.double), lengthMA)\\nmi = calc_zlema(src, lengthMA)\\n# hi\";\n",
       "                var nbb_formatted_code = \"src = (\\n    data[\\\"high\\\"].to_numpy(dtype=np.double)\\n    + data[\\\"low\\\"].to_numpy(dtype=np.double)\\n    + data[\\\"close\\\"].to_numpy(dtype=np.double)\\n) / 3\\nhi = calc_smma(data[\\\"high\\\"].to_numpy(dtype=np.double), lengthMA)\\nlo = calc_smma(data[\\\"low\\\"].to_numpy(dtype=np.double), lengthMA)\\nmi = calc_zlema(src, lengthMA)\\n# hi\";\n",
       "                var nbb_cells = Jupyter.notebook.get_cells();\n",
       "                for (var i = 0; i < nbb_cells.length; ++i) {\n",
       "                    if (nbb_cells[i].input_prompt_number == nbb_cell_id) {\n",
       "                        if (nbb_cells[i].get_text() == nbb_unformatted_code) {\n",
       "                             nbb_cells[i].set_text(nbb_formatted_code);\n",
       "                        }\n",
       "                        break;\n",
       "                    }\n",
       "                }\n",
       "            }, 500);\n",
       "            "
      ],
      "text/plain": [
       "<IPython.core.display.Javascript object>"
      ]
     },
     "metadata": {},
     "output_type": "display_data"
    }
   ],
   "source": [
    "src = (\n",
    "    data[\"high\"].to_numpy(dtype=np.double)\n",
    "    + data[\"low\"].to_numpy(dtype=np.double)\n",
    "    + data[\"close\"].to_numpy(dtype=np.double)\n",
    ") / 3\n",
    "hi = calc_smma(data[\"high\"].to_numpy(dtype=np.double), lengthMA)\n",
    "lo = calc_smma(data[\"low\"].to_numpy(dtype=np.double), lengthMA)\n",
    "mi = calc_zlema(src, lengthMA)\n",
    "# hi"
   ]
  },
  {
   "cell_type": "code",
   "execution_count": 12,
   "id": "greatest-seeking",
   "metadata": {},
   "outputs": [
    {
     "data": {
      "text/plain": [
       "490    0.010724\n",
       "491    0.000385\n",
       "492    0.000000\n",
       "493    0.000000\n",
       "494    0.000000\n",
       "495    0.000000\n",
       "496   -0.005292\n",
       "497   -0.012364\n",
       "498   -0.018208\n",
       "499   -0.022313\n",
       "dtype: float64"
      ]
     },
     "execution_count": 12,
     "metadata": {},
     "output_type": "execute_result"
    },
    {
     "data": {
      "application/javascript": [
       "\n",
       "            setTimeout(function() {\n",
       "                var nbb_cell_id = 12;\n",
       "                var nbb_unformatted_code = \"md = np.full_like(mi, fill_value=np.nan)\\n\\nconditions = [mi > hi, mi < lo]\\nchoices = [mi - hi, mi - lo]\\n\\nmd = np.select(conditions, choices, default=0)\\n\\nsb = tl.SMA(md, lengthSignal)\\nsh = md - sb\\n# md.dtype\\npd.Series(md).tail(10)\";\n",
       "                var nbb_formatted_code = \"md = np.full_like(mi, fill_value=np.nan)\\n\\nconditions = [mi > hi, mi < lo]\\nchoices = [mi - hi, mi - lo]\\n\\nmd = np.select(conditions, choices, default=0)\\n\\nsb = tl.SMA(md, lengthSignal)\\nsh = md - sb\\n# md.dtype\\npd.Series(md).tail(10)\";\n",
       "                var nbb_cells = Jupyter.notebook.get_cells();\n",
       "                for (var i = 0; i < nbb_cells.length; ++i) {\n",
       "                    if (nbb_cells[i].input_prompt_number == nbb_cell_id) {\n",
       "                        if (nbb_cells[i].get_text() == nbb_unformatted_code) {\n",
       "                             nbb_cells[i].set_text(nbb_formatted_code);\n",
       "                        }\n",
       "                        break;\n",
       "                    }\n",
       "                }\n",
       "            }, 500);\n",
       "            "
      ],
      "text/plain": [
       "<IPython.core.display.Javascript object>"
      ]
     },
     "metadata": {},
     "output_type": "display_data"
    }
   ],
   "source": [
    "md = np.full_like(mi, fill_value=np.nan)\n",
    "\n",
    "conditions = [mi > hi, mi < lo]\n",
    "choices = [mi - hi, mi - lo]\n",
    "\n",
    "md = np.select(conditions, choices, default=0)\n",
    "\n",
    "sb = tl.SMA(md, lengthSignal)\n",
    "sh = md - sb\n",
    "# md.dtype\n",
    "pd.Series(md).tail(10)"
   ]
  },
  {
   "cell_type": "code",
   "execution_count": 13,
   "id": "delayed-teach",
   "metadata": {},
   "outputs": [
    {
     "data": {
      "text/html": [
       "<div>\n",
       "<style scoped>\n",
       "    .dataframe tbody tr th:only-of-type {\n",
       "        vertical-align: middle;\n",
       "    }\n",
       "\n",
       "    .dataframe tbody tr th {\n",
       "        vertical-align: top;\n",
       "    }\n",
       "\n",
       "    .dataframe thead th {\n",
       "        text-align: right;\n",
       "    }\n",
       "</style>\n",
       "<table border=\"1\" class=\"dataframe\">\n",
       "  <thead>\n",
       "    <tr style=\"text-align: right;\">\n",
       "      <th></th>\n",
       "      <th>open_time</th>\n",
       "      <th>ImpulseMACD</th>\n",
       "      <th>ImpulseHisto</th>\n",
       "      <th>ImpulseMACDCDSignal</th>\n",
       "    </tr>\n",
       "  </thead>\n",
       "  <tbody>\n",
       "    <tr>\n",
       "      <th>480</th>\n",
       "      <td>2023-03-05 19:45:00</td>\n",
       "      <td>0.050964</td>\n",
       "      <td>-0.005257</td>\n",
       "      <td>0.056221</td>\n",
       "    </tr>\n",
       "    <tr>\n",
       "      <th>481</th>\n",
       "      <td>2023-03-05 20:00:00</td>\n",
       "      <td>0.048297</td>\n",
       "      <td>-0.006845</td>\n",
       "      <td>0.055141</td>\n",
       "    </tr>\n",
       "    <tr>\n",
       "      <th>482</th>\n",
       "      <td>2023-03-05 20:15:00</td>\n",
       "      <td>0.046851</td>\n",
       "      <td>-0.007130</td>\n",
       "      <td>0.053981</td>\n",
       "    </tr>\n",
       "    <tr>\n",
       "      <th>483</th>\n",
       "      <td>2023-03-05 20:30:00</td>\n",
       "      <td>0.044761</td>\n",
       "      <td>-0.007867</td>\n",
       "      <td>0.052627</td>\n",
       "    </tr>\n",
       "    <tr>\n",
       "      <th>484</th>\n",
       "      <td>2023-03-05 20:45:00</td>\n",
       "      <td>0.042759</td>\n",
       "      <td>-0.008368</td>\n",
       "      <td>0.051127</td>\n",
       "    </tr>\n",
       "    <tr>\n",
       "      <th>485</th>\n",
       "      <td>2023-03-05 21:00:00</td>\n",
       "      <td>0.041835</td>\n",
       "      <td>-0.007596</td>\n",
       "      <td>0.049431</td>\n",
       "    </tr>\n",
       "    <tr>\n",
       "      <th>486</th>\n",
       "      <td>2023-03-05 21:15:00</td>\n",
       "      <td>0.038502</td>\n",
       "      <td>-0.008791</td>\n",
       "      <td>0.047293</td>\n",
       "    </tr>\n",
       "    <tr>\n",
       "      <th>487</th>\n",
       "      <td>2023-03-05 21:30:00</td>\n",
       "      <td>0.031019</td>\n",
       "      <td>-0.013373</td>\n",
       "      <td>0.044392</td>\n",
       "    </tr>\n",
       "    <tr>\n",
       "      <th>488</th>\n",
       "      <td>2023-03-05 21:45:00</td>\n",
       "      <td>0.025113</td>\n",
       "      <td>-0.016009</td>\n",
       "      <td>0.041122</td>\n",
       "    </tr>\n",
       "    <tr>\n",
       "      <th>489</th>\n",
       "      <td>2023-03-05 22:00:00</td>\n",
       "      <td>0.018453</td>\n",
       "      <td>-0.019057</td>\n",
       "      <td>0.037510</td>\n",
       "    </tr>\n",
       "    <tr>\n",
       "      <th>490</th>\n",
       "      <td>2023-03-05 22:15:00</td>\n",
       "      <td>0.010724</td>\n",
       "      <td>-0.022611</td>\n",
       "      <td>0.033335</td>\n",
       "    </tr>\n",
       "    <tr>\n",
       "      <th>491</th>\n",
       "      <td>2023-03-05 22:30:00</td>\n",
       "      <td>0.000385</td>\n",
       "      <td>-0.027788</td>\n",
       "      <td>0.028172</td>\n",
       "    </tr>\n",
       "    <tr>\n",
       "      <th>492</th>\n",
       "      <td>2023-03-05 22:45:00</td>\n",
       "      <td>0.000000</td>\n",
       "      <td>-0.023199</td>\n",
       "      <td>0.023199</td>\n",
       "    </tr>\n",
       "    <tr>\n",
       "      <th>493</th>\n",
       "      <td>2023-03-05 23:00:00</td>\n",
       "      <td>0.000000</td>\n",
       "      <td>-0.018448</td>\n",
       "      <td>0.018448</td>\n",
       "    </tr>\n",
       "    <tr>\n",
       "      <th>494</th>\n",
       "      <td>2023-03-05 23:15:00</td>\n",
       "      <td>0.000000</td>\n",
       "      <td>-0.013800</td>\n",
       "      <td>0.013800</td>\n",
       "    </tr>\n",
       "    <tr>\n",
       "      <th>495</th>\n",
       "      <td>2023-03-05 23:30:00</td>\n",
       "      <td>0.000000</td>\n",
       "      <td>-0.009522</td>\n",
       "      <td>0.009522</td>\n",
       "    </tr>\n",
       "    <tr>\n",
       "      <th>496</th>\n",
       "      <td>2023-03-05 23:45:00</td>\n",
       "      <td>-0.005292</td>\n",
       "      <td>-0.010779</td>\n",
       "      <td>0.005487</td>\n",
       "    </tr>\n",
       "    <tr>\n",
       "      <th>497</th>\n",
       "      <td>2023-03-06 00:00:00</td>\n",
       "      <td>-0.012364</td>\n",
       "      <td>-0.013686</td>\n",
       "      <td>0.001323</td>\n",
       "    </tr>\n",
       "    <tr>\n",
       "      <th>498</th>\n",
       "      <td>2023-03-06 00:15:00</td>\n",
       "      <td>-0.018208</td>\n",
       "      <td>-0.015458</td>\n",
       "      <td>-0.002751</td>\n",
       "    </tr>\n",
       "    <tr>\n",
       "      <th>499</th>\n",
       "      <td>2023-03-06 00:30:00</td>\n",
       "      <td>-0.022313</td>\n",
       "      <td>-0.015892</td>\n",
       "      <td>-0.006421</td>\n",
       "    </tr>\n",
       "  </tbody>\n",
       "</table>\n",
       "</div>"
      ],
      "text/plain": [
       "              open_time  ImpulseMACD  ImpulseHisto  ImpulseMACDCDSignal\n",
       "480 2023-03-05 19:45:00     0.050964     -0.005257             0.056221\n",
       "481 2023-03-05 20:00:00     0.048297     -0.006845             0.055141\n",
       "482 2023-03-05 20:15:00     0.046851     -0.007130             0.053981\n",
       "483 2023-03-05 20:30:00     0.044761     -0.007867             0.052627\n",
       "484 2023-03-05 20:45:00     0.042759     -0.008368             0.051127\n",
       "485 2023-03-05 21:00:00     0.041835     -0.007596             0.049431\n",
       "486 2023-03-05 21:15:00     0.038502     -0.008791             0.047293\n",
       "487 2023-03-05 21:30:00     0.031019     -0.013373             0.044392\n",
       "488 2023-03-05 21:45:00     0.025113     -0.016009             0.041122\n",
       "489 2023-03-05 22:00:00     0.018453     -0.019057             0.037510\n",
       "490 2023-03-05 22:15:00     0.010724     -0.022611             0.033335\n",
       "491 2023-03-05 22:30:00     0.000385     -0.027788             0.028172\n",
       "492 2023-03-05 22:45:00     0.000000     -0.023199             0.023199\n",
       "493 2023-03-05 23:00:00     0.000000     -0.018448             0.018448\n",
       "494 2023-03-05 23:15:00     0.000000     -0.013800             0.013800\n",
       "495 2023-03-05 23:30:00     0.000000     -0.009522             0.009522\n",
       "496 2023-03-05 23:45:00    -0.005292     -0.010779             0.005487\n",
       "497 2023-03-06 00:00:00    -0.012364     -0.013686             0.001323\n",
       "498 2023-03-06 00:15:00    -0.018208     -0.015458            -0.002751\n",
       "499 2023-03-06 00:30:00    -0.022313     -0.015892            -0.006421"
      ]
     },
     "execution_count": 13,
     "metadata": {},
     "output_type": "execute_result"
    },
    {
     "data": {
      "application/javascript": [
       "\n",
       "            setTimeout(function() {\n",
       "                var nbb_cell_id = 13;\n",
       "                var nbb_unformatted_code = \"res = pd.DataFrame(\\n    {\\n        \\\"open_time\\\": data[\\\"open_time\\\"],\\n        \\\"ImpulseMACD\\\": md,\\n        \\\"ImpulseHisto\\\": sh,\\n        \\\"ImpulseMACDCDSignal\\\": sb,\\n    }\\n)\\nres.tail(20)\";\n",
       "                var nbb_formatted_code = \"res = pd.DataFrame(\\n    {\\n        \\\"open_time\\\": data[\\\"open_time\\\"],\\n        \\\"ImpulseMACD\\\": md,\\n        \\\"ImpulseHisto\\\": sh,\\n        \\\"ImpulseMACDCDSignal\\\": sb,\\n    }\\n)\\nres.tail(20)\";\n",
       "                var nbb_cells = Jupyter.notebook.get_cells();\n",
       "                for (var i = 0; i < nbb_cells.length; ++i) {\n",
       "                    if (nbb_cells[i].input_prompt_number == nbb_cell_id) {\n",
       "                        if (nbb_cells[i].get_text() == nbb_unformatted_code) {\n",
       "                             nbb_cells[i].set_text(nbb_formatted_code);\n",
       "                        }\n",
       "                        break;\n",
       "                    }\n",
       "                }\n",
       "            }, 500);\n",
       "            "
      ],
      "text/plain": [
       "<IPython.core.display.Javascript object>"
      ]
     },
     "metadata": {},
     "output_type": "display_data"
    }
   ],
   "source": [
    "res = pd.DataFrame(\n",
    "    {\n",
    "        \"open_time\": data[\"open_time\"],\n",
    "        \"ImpulseMACD\": md,\n",
    "        \"ImpulseHisto\": sh,\n",
    "        \"ImpulseMACDCDSignal\": sb,\n",
    "    }\n",
    ")\n",
    "res.tail(20)"
   ]
  },
  {
   "cell_type": "code",
   "execution_count": null,
   "id": "integrated-tyler",
   "metadata": {},
   "outputs": [],
   "source": []
  }
 ],
 "metadata": {
  "kernelspec": {
   "display_name": "venv",
   "language": "python",
   "name": "venv"
  },
  "language_info": {
   "codemirror_mode": {
    "name": "ipython",
    "version": 3
   },
   "file_extension": ".py",
   "mimetype": "text/x-python",
   "name": "python",
   "nbconvert_exporter": "python",
   "pygments_lexer": "ipython3",
   "version": "3.6.13"
  }
 },
 "nbformat": 4,
 "nbformat_minor": 5
}
